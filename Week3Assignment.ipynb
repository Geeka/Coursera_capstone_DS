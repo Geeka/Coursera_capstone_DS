{
    "cells": [
        {
            "metadata": {
                "collapsed": true
            },
            "cell_type": "markdown",
            "source": "# Segmentation and clustering assignment"
        },
        {
            "metadata": {},
            "cell_type": "markdown",
            "source": "## Getting data"
        },
        {
            "metadata": {},
            "cell_type": "code",
            "source": "#importing libraries\n\nimport pandas as pd\nimport numpy as np\nimport requests\nfrom bs4 import BeautifulSoup",
            "execution_count": 1,
            "outputs": []
        },
        {
            "metadata": {},
            "cell_type": "code",
            "source": "# get the respone html for url \nlinkurl='https://en.wikipedia.org/wiki/List_of_postal_codes_of_Canada:_M'\nhtml=requests.get(linkurl).text",
            "execution_count": 2,
            "outputs": []
        },
        {
            "metadata": {
                "scrolled": false
            },
            "cell_type": "code",
            "source": "# parse the response html using beautifulsoup xml parser\nsoup=BeautifulSoup(html,'lxml')\n\n#find the table and load the relevant data\ntabl=soup.find('table')",
            "execution_count": 3,
            "outputs": []
        },
        {
            "metadata": {},
            "cell_type": "markdown",
            "source": "### Build the initial pandas dataframe"
        },
        {
            "metadata": {
                "scrolled": true
            },
            "cell_type": "code",
            "source": "#Build a pandas dataframe \ndata=[]\nheaders=[]\n\n#parse through the table tags and obtain data and header values\nfor rowtext in tabl.find_all('tr'):\n    if(headers==[]):\n        columns =rowtext.find_all('th')\n        if columns!=[]: \n            headers=[columns[0].text,columns[1].text,columns[2].text]\n    else:\n        columns =rowtext.find_all('td')\n        \n        if columns!=[]: \n            #build row values\n            row=[columns[0].text.strip('\\n'),columns[1].text.strip('\\n'),columns[2].text.strip('\\n')]\n            data.append(row)\n            \n#Column names as given in the assignment\nheaders=['PostalCode', 'Borough', 'Neighborhood']\n\n#Initial dataframe\ndf=pd.DataFrame(data,columns=headers)  \ndf.shape",
            "execution_count": 4,
            "outputs": [
                {
                    "output_type": "execute_result",
                    "execution_count": 4,
                    "data": {
                        "text/plain": "(287, 3)"
                    },
                    "metadata": {}
                }
            ]
        },
        {
            "metadata": {},
            "cell_type": "markdown",
            "source": "## Cleaning Data"
        },
        {
            "metadata": {},
            "cell_type": "markdown",
            "source": "### Removing rows wth unassigned Borough"
        },
        {
            "metadata": {
                "scrolled": false
            },
            "cell_type": "code",
            "source": "#If Borough value is Not assigned remove that row\nassigned=df['Borough']!= 'Not assigned'\ndfclean=df[assigned]\ndfclean.shape",
            "execution_count": 5,
            "outputs": [
                {
                    "output_type": "execute_result",
                    "execution_count": 5,
                    "data": {
                        "text/plain": "(210, 3)"
                    },
                    "metadata": {}
                }
            ]
        },
        {
            "metadata": {},
            "cell_type": "markdown",
            "source": "### Replacing the unassigned neighborhood values with Borough value"
        },
        {
            "metadata": {
                "scrolled": true
            },
            "cell_type": "code",
            "source": "for i in range(0,dfclean.shape[0]):\n    if(dfclean.iloc[i]['Neighborhood']=='Not assigned'):\n               dfclean.iloc[i]['Neighborhood']=dfclean.iloc[i]['Borough']\ndfclean.shape",
            "execution_count": 6,
            "outputs": [
                {
                    "output_type": "execute_result",
                    "execution_count": 6,
                    "data": {
                        "text/plain": "(210, 3)"
                    },
                    "metadata": {}
                }
            ]
        },
        {
            "metadata": {},
            "cell_type": "markdown",
            "source": "### Merging the rows with same postalcode but different neoghborhood "
        },
        {
            "metadata": {
                "scrolled": false
            },
            "cell_type": "code",
            "source": "dfuniq=dfclean.groupby(['PostalCode','Borough'])['Neighborhood'].apply(', '.join).reset_index()\ndfuniq.shape",
            "execution_count": 7,
            "outputs": [
                {
                    "output_type": "execute_result",
                    "execution_count": 7,
                    "data": {
                        "text/plain": "(103, 3)"
                    },
                    "metadata": {}
                }
            ]
        },
        {
            "metadata": {},
            "cell_type": "markdown",
            "source": "## Final result"
        },
        {
            "metadata": {},
            "cell_type": "code",
            "source": "dfuniq.shape",
            "execution_count": 8,
            "outputs": [
                {
                    "output_type": "execute_result",
                    "execution_count": 8,
                    "data": {
                        "text/plain": "(103, 3)"
                    },
                    "metadata": {}
                }
            ]
        },
        {
            "metadata": {},
            "cell_type": "markdown",
            "source": "### Saving the dataframe"
        },
        {
            "metadata": {},
            "cell_type": "code",
            "source": "dfuniq.to_csv('Week3Part1.csv',header=True,index=False)",
            "execution_count": 9,
            "outputs": []
        }
    ],
    "metadata": {
        "kernelspec": {
            "name": "python3",
            "display_name": "Python 3.6",
            "language": "python"
        },
        "language_info": {
            "name": "python",
            "version": "3.6.9",
            "mimetype": "text/x-python",
            "codemirror_mode": {
                "name": "ipython",
                "version": 3
            },
            "pygments_lexer": "ipython3",
            "nbconvert_exporter": "python",
            "file_extension": ".py"
        }
    },
    "nbformat": 4,
    "nbformat_minor": 1
}