{
    "cells": [
        {
            "cell_type": "markdown",
            "metadata": {
                "collapsed": true
            },
            "source": "# Segmentation and clustering assignment"
        },
        {
            "cell_type": "markdown",
            "metadata": {},
            "source": "## Getting data"
        },
        {
            "cell_type": "code",
            "execution_count": 1,
            "metadata": {},
            "outputs": [],
            "source": "#importing libraries\n\nimport pandas as pd\nimport numpy as np\nimport requests\nfrom bs4 import BeautifulSoup"
        },
        {
            "cell_type": "code",
            "execution_count": 2,
            "metadata": {},
            "outputs": [],
            "source": "# get the respone html for url \nlinkurl='https://en.wikipedia.org/wiki/List_of_postal_codes_of_Canada:_M'\nhtml=requests.get(linkurl).text"
        },
        {
            "cell_type": "code",
            "execution_count": 3,
            "metadata": {
                "scrolled": false
            },
            "outputs": [],
            "source": "# parse the response html using beautifulsoup xml parser\nsoup=BeautifulSoup(html,'lxml')\n\n#find the table and load the relevant data\ntabl=soup.find('table')"
        },
        {
            "cell_type": "markdown",
            "metadata": {},
            "source": "### Build the initial pandas dataframe"
        },
        {
            "cell_type": "code",
            "execution_count": 4,
            "metadata": {
                "scrolled": true
            },
            "outputs": [
                {
                    "data": {
                        "text/plain": "(287, 3)"
                    },
                    "execution_count": 4,
                    "metadata": {},
                    "output_type": "execute_result"
                }
            ],
            "source": "#Build a pandas dataframe \ndata=[]\nheaders=[]\n\n#parse through the table tags and obtain data and header values\nfor rowtext in tabl.find_all('tr'):\n    if(headers==[]):\n        columns =rowtext.find_all('th')\n        if columns!=[]: \n            headers=[columns[0].text,columns[1].text,columns[2].text]\n    else:\n        columns =rowtext.find_all('td')\n        \n        if columns!=[]: \n            #build row values\n            row=[columns[0].text.strip('\\n'),columns[1].text.strip('\\n'),columns[2].text.strip('\\n')]\n            data.append(row)\n            \n#Column names as given in the assignment\nheaders=['PostalCode', 'Borough', 'Neighborhood']\n\n#Initial dataframe\ndf=pd.DataFrame(data,columns=headers)  \ndf.shape"
        },
        {
            "cell_type": "markdown",
            "metadata": {},
            "source": "## Cleaning Data"
        },
        {
            "cell_type": "markdown",
            "metadata": {},
            "source": "### Removing rows wth unassigned Borough"
        },
        {
            "cell_type": "code",
            "execution_count": 5,
            "metadata": {
                "scrolled": false
            },
            "outputs": [
                {
                    "data": {
                        "text/plain": "(210, 3)"
                    },
                    "execution_count": 5,
                    "metadata": {},
                    "output_type": "execute_result"
                }
            ],
            "source": "#If Borough value is Not assigned remove that row\nassigned=df['Borough']!= 'Not assigned'\ndfclean=df[assigned]\ndfclean.shape"
        },
        {
            "cell_type": "markdown",
            "metadata": {},
            "source": "### Replacing the unassigned neighborhood values with Borough value"
        },
        {
            "cell_type": "code",
            "execution_count": 6,
            "metadata": {
                "scrolled": true
            },
            "outputs": [
                {
                    "data": {
                        "text/plain": "(210, 3)"
                    },
                    "execution_count": 6,
                    "metadata": {},
                    "output_type": "execute_result"
                }
            ],
            "source": "for i in range(0,dfclean.shape[0]):\n    if(dfclean.iloc[i]['Neighborhood']=='Not assigned'):\n               dfclean.iloc[i]['Neighborhood']=dfclean.iloc[i]['Borough']\ndfclean.shape"
        },
        {
            "cell_type": "markdown",
            "metadata": {},
            "source": "### Merging the rows with same postalcode but different neoghborhood "
        },
        {
            "cell_type": "code",
            "execution_count": 7,
            "metadata": {
                "scrolled": false
            },
            "outputs": [
                {
                    "data": {
                        "text/plain": "(103, 3)"
                    },
                    "execution_count": 7,
                    "metadata": {},
                    "output_type": "execute_result"
                }
            ],
            "source": "dfuniq=dfclean.groupby(['PostalCode','Borough'])['Neighborhood'].apply(', '.join).reset_index()\ndfuniq.shape"
        },
        {
            "cell_type": "markdown",
            "metadata": {},
            "source": "## Final result"
        },
        {
            "cell_type": "code",
            "execution_count": 8,
            "metadata": {},
            "outputs": [
                {
                    "data": {
                        "text/plain": "(103, 3)"
                    },
                    "execution_count": 8,
                    "metadata": {},
                    "output_type": "execute_result"
                }
            ],
            "source": "dfuniq.shape"
        },
        {
            "cell_type": "markdown",
            "metadata": {},
            "source": "### Saving the dataframe"
        },
        {
            "cell_type": "code",
            "execution_count": 9,
            "metadata": {},
            "outputs": [],
            "source": "dfuniq.to_csv('Week3Part1.csv',header=True,index=False)"
        }
    ],
    "metadata": {
        "kernelspec": {
            "display_name": "Python 3.6",
            "language": "python",
            "name": "python3"
        },
        "language_info": {
            "codemirror_mode": {
                "name": "ipython",
                "version": 3
            },
            "file_extension": ".py",
            "mimetype": "text/x-python",
            "name": "python",
            "nbconvert_exporter": "python",
            "pygments_lexer": "ipython3",
            "version": "3.6.9"
        }
    },
    "nbformat": 4,
    "nbformat_minor": 1
}